{
 "cells": [
  {
   "cell_type": "markdown",
   "id": "64d6203a-cecb-456e-82cd-f61058a623bb",
   "metadata": {},
   "source": [
    "## Task1: \n",
    "    -You need to write a function in python that return all such numbers which are divisible by 7 but are not a multiple of 5, between 2000 and 3200 (both -included). Return the obtained numbers in a comma-separated sequence on a single line."
   ]
  },
  {
   "cell_type": "code",
   "execution_count": 12,
   "id": "12bad3da-999e-472b-9c7d-778b6086115e",
   "metadata": {},
   "outputs": [
    {
     "data": {
      "text/plain": [
       "'2002,2009,2016,2023,2037,2044,2051,2058,2072,2079,2086,2093,2107,2114,2121,2128,2142,2149,2156,2163,2177,2184,2191,2198,2212,2219,2226,2233,2247,2254,2261,2268,2282,2289,2296,2303,2317,2324,2331,2338,2352,2359,2366,2373,2387,2394,2401,2408,2422,2429,2436,2443,2457,2464,2471,2478,2492,2499,2506,2513,2527,2534,2541,2548,2562,2569,2576,2583,2597,2604,2611,2618,2632,2639,2646,2653,2667,2674,2681,2688,2702,2709,2716,2723,2737,2744,2751,2758,2772,2779,2786,2793,2807,2814,2821,2828,2842,2849,2856,2863,2877,2884,2891,2898,2912,2919,2926,2933,2947,2954,2961,2968,2982,2989,2996,3003,3017,3024,3031,3038,3052,3059,3066,3073,3087,3094,3101,3108,3122,3129,3136,3143,3157,3164,3171,3178,3192,3199'"
      ]
     },
     "execution_count": 12,
     "metadata": {},
     "output_type": "execute_result"
    }
   ],
   "source": [
    "def is_divisiable():\n",
    "    lst1=[]\n",
    "    for a in range(2000,3201):\n",
    "        if a % 7 == 0 and a % 5 != 0:\n",
    "            lst1.append(str(a))\n",
    "    return \",\".join(lst1)\n",
    "is_divisiable()\n",
    "            "
   ]
  },
  {
   "cell_type": "markdown",
   "id": "7a8135f8-2b0a-4a63-99fa-ce1c96c26f58",
   "metadata": {},
   "source": [
    "## Task2: You need code a function that calculates and returns the value according to the given formula: \n",
    "    -P = Square root of [(2 * A * B)/C] \n",
    "    -Following are the fixed values of A and B: \n",
    "    -A is 50. B is 30. \n",
    "    -The values of the literal C should be taken as console input to your program in a comma-separated sequence. \n",
    "    -Example \n",
    "    -Let us assume the following comma separated input sequence is given to the program: \n",
    "    -100,150,180 \n",
    "    -The output of the program should be: \n",
    "    -18,22,24"
   ]
  },
  {
   "cell_type": "code",
   "execution_count": null,
   "id": "4841d4f0-db7c-4564-ab80-568b188e0a0f",
   "metadata": {},
   "outputs": [],
   "source": []
  }
 ],
 "metadata": {
  "kernelspec": {
   "display_name": "Python 3 (ipykernel)",
   "language": "python",
   "name": "python3"
  },
  "language_info": {
   "codemirror_mode": {
    "name": "ipython",
    "version": 3
   },
   "file_extension": ".py",
   "mimetype": "text/x-python",
   "name": "python",
   "nbconvert_exporter": "python",
   "pygments_lexer": "ipython3",
   "version": "3.12.7"
  }
 },
 "nbformat": 4,
 "nbformat_minor": 5
}
